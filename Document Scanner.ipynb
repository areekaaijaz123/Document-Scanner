{
 "cells": [
  {
   "cell_type": "code",
   "execution_count": 1,
   "metadata": {},
   "outputs": [],
   "source": [
    "import cv2\n",
    "import numpy as np"
   ]
  },
  {
   "cell_type": "code",
   "execution_count": 2,
   "metadata": {},
   "outputs": [],
   "source": [
    "def pre_processing(img):\n",
    "    \n",
    "    kernel = np.ones((5,5), np.uint8)\n",
    "    \n",
    "    grayImg = cv2.cvtColor(img, cv2.COLOR_BGR2GRAY)\n",
    "    blurImg = cv2.GaussianBlur(grayImg, (5,5), 1)\n",
    "    cannyImg = cv2.Canny(img, 200, 200)\n",
    "    dilatedImg = cv2.dilate(cannyImg, kernel, iterations=2) \n",
    "    resultImg = cv2.erode(dilatedImg, kernel, iterations=1)\n",
    "    \n",
    "    return resultImg"
   ]
  },
  {
   "cell_type": "code",
   "execution_count": 3,
   "metadata": {},
   "outputs": [],
   "source": [
    "def get_contour(img):\n",
    "    \n",
    "    biggest = np.array([])\n",
    "    maxArea = 0\n",
    "    \n",
    "    contours, hierarchy = cv2.findContours(img, cv2.RETR_EXTERNAL, cv2.CHAIN_APPROX_NONE)\n",
    "  \n",
    "    for cnt in contours:\n",
    "        area = cv2.contourArea(cnt)\n",
    "        if area>5000:            \n",
    "            #cv2.drawContours(contourFrame, cnt, -1, (255,0,0), 2)\n",
    "            peri = cv2.arcLength(cnt, True)\n",
    "            approx = cv2.approxPolyDP(cnt, 0.02*peri, True)\n",
    "            \n",
    "            if area>maxArea and (len(approx) == 4):\n",
    "                biggest = approx\n",
    "                maxArea = area\n",
    "                \n",
    "    cv2.drawContours(contourFrame, biggest, -1, (255,0,0), 20)\n",
    "    \n",
    "    return biggest"
   ]
  },
  {
   "cell_type": "code",
   "execution_count": 4,
   "metadata": {},
   "outputs": [],
   "source": [
    "def get_warp(img, biggest):\n",
    "    \n",
    "    cntPt = reorder(biggest)\n",
    "    width, height = 340, 450\n",
    "    pts1 = np.float32(cntPt)\n",
    "    pts2 = np.float32([[0,0], [width,0], [0,height], [width,height]])\n",
    "    matrix = cv2.getPerspectiveTransform(pts1, pts2)\n",
    "    trsfrmImg = cv2.warpPerspective(img, matrix, (width,height))\n",
    "    \n",
    "    outputImg = trsfrmImg[10:trsfrmImg.shape[0]-10, 10:trsfrmImg.shape[1]-10]\n",
    "    outputImg = cv2.resize(outputImg, (width, height))\n",
    "    \n",
    "    return outputImg"
   ]
  },
  {
   "cell_type": "code",
   "execution_count": 5,
   "metadata": {},
   "outputs": [],
   "source": [
    "def reorder(pts):\n",
    "    pts = pts.reshape((4,2))\n",
    "    newPts = np.zeros((4,1,2), np.int32)\n",
    "    \n",
    "    sum_ = pts.sum(1)\n",
    "    \n",
    "    newPts[0] = pts[np.argmin(sum_)] #Smallest point\n",
    "    newPts[3] = pts[np.argmax(sum_)] #biggest point\n",
    "    \n",
    "    diff = np.diff(pts, axis=1)\n",
    "    \n",
    "    newPts[1] = pts[np.argmin(diff)]\n",
    "    newPts[2] = pts[np.argmax(diff)]\n",
    "    \n",
    "    return newPts"
   ]
  },
  {
   "cell_type": "code",
   "execution_count": 6,
   "metadata": {},
   "outputs": [],
   "source": [
    "frameWid = 345\n",
    "frameHig = 500\n",
    "\n",
    "camFlag = False\n",
    "cap = cv2.VideoCapture(0)\n",
    "cap.set(3, frameWid)\n",
    "cap.set(4, frameHig)\n",
    "cap.set(10,150)\n",
    "\n",
    "while(True):\n",
    "    if camFlag:\n",
    "        ret, frame = cap.read()\n",
    "    else: \n",
    "        frame = cv2.imread('Images/document.jpeg')\n",
    "    \n",
    "    frame = cv2.resize(frame, (frameWid,frameHig))\n",
    "    contourFrame = frame.copy()\n",
    "    \n",
    "    threshImg = pre_processing(frame)\n",
    "    biggest = get_contour(threshImg)\n",
    "    \n",
    "    if biggest.size != 0:\n",
    "        warp = get_warp(frame, biggest)\n",
    "        cv2.imshow('Final Image',warp)\n",
    "    \n",
    "    cv2.imshow('Image',frame)\n",
    "    cv2.imshow('Contour Image',contourFrame)\n",
    "    \n",
    "    \n",
    "    if cv2.waitKey(1) == ord('q'):\n",
    "        break\n",
    "\n",
    "if camFlag: cap.release()\n",
    "    \n",
    "cv2.destroyAllWindows()"
   ]
  },
  {
   "cell_type": "code",
   "execution_count": null,
   "metadata": {},
   "outputs": [],
   "source": []
  }
 ],
 "metadata": {
  "kernelspec": {
   "display_name": "Python 3",
   "language": "python",
   "name": "python3"
  },
  "language_info": {
   "codemirror_mode": {
    "name": "ipython",
    "version": 3
   },
   "file_extension": ".py",
   "mimetype": "text/x-python",
   "name": "python",
   "nbconvert_exporter": "python",
   "pygments_lexer": "ipython3",
   "version": "3.7.3"
  }
 },
 "nbformat": 4,
 "nbformat_minor": 2
}
